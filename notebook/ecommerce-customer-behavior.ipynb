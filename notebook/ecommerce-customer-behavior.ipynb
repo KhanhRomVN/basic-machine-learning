{
 "cells": [
  {
   "cell_type": "code",
   "execution_count": 80,
   "metadata": {},
   "outputs": [],
   "source": [
    "import pandas as pd\n",
    "import numpy as np\n"
   ]
  },
  {
   "cell_type": "code",
   "execution_count": 81,
   "metadata": {},
   "outputs": [
    {
     "data": {
      "text/html": [
       "<div>\n",
       "<style scoped>\n",
       "    .dataframe tbody tr th:only-of-type {\n",
       "        vertical-align: middle;\n",
       "    }\n",
       "\n",
       "    .dataframe tbody tr th {\n",
       "        vertical-align: top;\n",
       "    }\n",
       "\n",
       "    .dataframe thead th {\n",
       "        text-align: right;\n",
       "    }\n",
       "</style>\n",
       "<table border=\"1\" class=\"dataframe\">\n",
       "  <thead>\n",
       "    <tr style=\"text-align: right;\">\n",
       "      <th></th>\n",
       "      <th>Customer ID</th>\n",
       "      <th>Age</th>\n",
       "      <th>Gender</th>\n",
       "      <th>Location</th>\n",
       "      <th>Annual Income</th>\n",
       "      <th>Purchase History</th>\n",
       "      <th>Browsing History</th>\n",
       "      <th>Product Reviews</th>\n",
       "      <th>Time on Site</th>\n",
       "    </tr>\n",
       "  </thead>\n",
       "  <tbody>\n",
       "    <tr>\n",
       "      <th>0</th>\n",
       "      <td>1001</td>\n",
       "      <td>25</td>\n",
       "      <td>Female</td>\n",
       "      <td>City D</td>\n",
       "      <td>45000</td>\n",
       "      <td>[{\"Date\": \"2022-03-05\", \"Category\": \"Clothing\"...</td>\n",
       "      <td>[{\"Timestamp\": \"2022-03-10T14:30:00Z\"}, {\"Time...</td>\n",
       "      <td>Great pair of jeans, very comfortable. Rating:...</td>\n",
       "      <td>32.50</td>\n",
       "    </tr>\n",
       "    <tr>\n",
       "      <th>1</th>\n",
       "      <td>1001</td>\n",
       "      <td>28</td>\n",
       "      <td>Female</td>\n",
       "      <td>City D</td>\n",
       "      <td>52000</td>\n",
       "      <td>[{\"Product Category\": \"Clothing\", \"Purchase Da...</td>\n",
       "      <td>[{\"Product Category\": \"Home &amp; Garden\", \"Timest...</td>\n",
       "      <td>Great customer service!</td>\n",
       "      <td>123.45</td>\n",
       "    </tr>\n",
       "    <tr>\n",
       "      <th>2</th>\n",
       "      <td>1001</td>\n",
       "      <td>28</td>\n",
       "      <td>Female</td>\n",
       "      <td>City D</td>\n",
       "      <td>65000</td>\n",
       "      <td>[{\"Product Category\": \"Electronics\", \"Purchase...</td>\n",
       "      <td>[{\"Product Category\": \"Clothing\", \"Timestamp\":...</td>\n",
       "      <td>Great electronics. The sound quality is excell...</td>\n",
       "      <td>125.60</td>\n",
       "    </tr>\n",
       "    <tr>\n",
       "      <th>3</th>\n",
       "      <td>1001</td>\n",
       "      <td>45</td>\n",
       "      <td>Female</td>\n",
       "      <td>City D</td>\n",
       "      <td>70000</td>\n",
       "      <td>{'Purchase Date': '2022-08-15', 'Product Categ...</td>\n",
       "      <td>{'Timestamp': '2022-09-03 14:30:00'}</td>\n",
       "      <td>{\"Product 1\": {\"Rating\": 4, \"Review\": \"Great e...</td>\n",
       "      <td>327.60</td>\n",
       "    </tr>\n",
       "    <tr>\n",
       "      <th>4</th>\n",
       "      <td>1002</td>\n",
       "      <td>34</td>\n",
       "      <td>Male</td>\n",
       "      <td>City E</td>\n",
       "      <td>45000</td>\n",
       "      <td>{'Purchase Date': '2022-07-25', 'Product Categ...</td>\n",
       "      <td>{'Timestamp': '2022-08-10 17:15:00'}</td>\n",
       "      <td>{\"Product 1\": {\"Rating\": 3, \"Review\": \"Good pr...</td>\n",
       "      <td>214.90</td>\n",
       "    </tr>\n",
       "  </tbody>\n",
       "</table>\n",
       "</div>"
      ],
      "text/plain": [
       "   Customer ID  Age  Gender Location  Annual Income  \\\n",
       "0         1001   25  Female   City D          45000   \n",
       "1         1001   28  Female   City D          52000   \n",
       "2         1001   28  Female   City D          65000   \n",
       "3         1001   45  Female   City D          70000   \n",
       "4         1002   34    Male   City E          45000   \n",
       "\n",
       "                                    Purchase History  \\\n",
       "0  [{\"Date\": \"2022-03-05\", \"Category\": \"Clothing\"...   \n",
       "1  [{\"Product Category\": \"Clothing\", \"Purchase Da...   \n",
       "2  [{\"Product Category\": \"Electronics\", \"Purchase...   \n",
       "3  {'Purchase Date': '2022-08-15', 'Product Categ...   \n",
       "4  {'Purchase Date': '2022-07-25', 'Product Categ...   \n",
       "\n",
       "                                    Browsing History  \\\n",
       "0  [{\"Timestamp\": \"2022-03-10T14:30:00Z\"}, {\"Time...   \n",
       "1  [{\"Product Category\": \"Home & Garden\", \"Timest...   \n",
       "2  [{\"Product Category\": \"Clothing\", \"Timestamp\":...   \n",
       "3               {'Timestamp': '2022-09-03 14:30:00'}   \n",
       "4               {'Timestamp': '2022-08-10 17:15:00'}   \n",
       "\n",
       "                                     Product Reviews  Time on Site  \n",
       "0  Great pair of jeans, very comfortable. Rating:...         32.50  \n",
       "1                            Great customer service!        123.45  \n",
       "2  Great electronics. The sound quality is excell...        125.60  \n",
       "3  {\"Product 1\": {\"Rating\": 4, \"Review\": \"Great e...        327.60  \n",
       "4  {\"Product 1\": {\"Rating\": 3, \"Review\": \"Good pr...        214.90  "
      ]
     },
     "execution_count": 81,
     "metadata": {},
     "output_type": "execute_result"
    }
   ],
   "source": [
    "df = pd.read_csv(\"../data/raw/ecommerce-customer-behavior.csv\")\n",
    "df.head()"
   ]
  },
  {
   "cell_type": "code",
   "execution_count": 82,
   "metadata": {},
   "outputs": [
    {
     "data": {
      "text/plain": [
       "13"
      ]
     },
     "execution_count": 82,
     "metadata": {},
     "output_type": "execute_result"
    }
   ],
   "source": [
    "# Có bao nhiêu khách hàng duy nhất trong tập dữ liệu?\n",
    "df[\"Customer ID\"].nunique()\n"
   ]
  },
  {
   "cell_type": "code",
   "execution_count": 83,
   "metadata": {},
   "outputs": [
    {
     "data": {
      "text/plain": [
       "np.float64(42.0)"
      ]
     },
     "execution_count": 83,
     "metadata": {},
     "output_type": "execute_result"
    }
   ],
   "source": [
    "# Hàm tính trung bình của cột Age [mean()]\n",
    "df[\"Age\"].unique().mean()"
   ]
  },
  {
   "cell_type": "code",
   "execution_count": null,
   "metadata": {},
   "outputs": [],
   "source": []
  }
 ],
 "metadata": {
  "kernelspec": {
   "display_name": "Python 3",
   "language": "python",
   "name": "python3"
  },
  "language_info": {
   "codemirror_mode": {
    "name": "ipython",
    "version": 3
   },
   "file_extension": ".py",
   "mimetype": "text/x-python",
   "name": "python",
   "nbconvert_exporter": "python",
   "pygments_lexer": "ipython3",
   "version": "3.12.6"
  }
 },
 "nbformat": 4,
 "nbformat_minor": 2
}
